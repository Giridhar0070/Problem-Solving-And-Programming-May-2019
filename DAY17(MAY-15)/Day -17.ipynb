{
 "cells": [
  {
   "cell_type": "markdown",
   "metadata": {},
   "source": [
    "### Regular expressions\n",
    "A set of all possible values that satisfy a given pattern\n",
    "0123456789\n",
    "[0-9]\n",
    "[a-z]\n",
    "[A-Z]\n"
   ]
  },
  {
   "cell_type": "code",
   "execution_count": 28,
   "metadata": {},
   "outputs": [
    {
     "name": "stdout",
     "output_type": "stream",
     "text": [
      "Match\n"
     ]
    }
   ],
   "source": [
    "import re\n",
    "pattern = '^[a-x]{3,9}$'\n",
    "domain='dhdhcx'\n",
    "if re.match(pattern,domain):\n",
    "    print('Match')\n",
    "else:\n",
    "    print('Does not Match')\n"
   ]
  },
  {
   "cell_type": "code",
   "execution_count": 25,
   "metadata": {},
   "outputs": [
    {
     "name": "stdout",
     "output_type": "stream",
     "text": [
      "Match\n"
     ]
    }
   ],
   "source": [
    "import re\n",
    "PostalCodepattern = '^[1-9][0-9]{5}$'\n",
    "PostalCode='697978'\n",
    "if re.match(PostalCodepattern,PostalCode):\n",
    "    print('Match')\n",
    "else:\n",
    "    print('Does not Match')"
   ]
  },
  {
   "cell_type": "code",
   "execution_count": 35,
   "metadata": {},
   "outputs": [
    {
     "name": "stdout",
     "output_type": "stream",
     "text": [
      "Match\n"
     ]
    }
   ],
   "source": [
    "import re\n",
    "TelephoneCodepattern = '^[+][9][1][ ][6-9][0-9]{9}$'\n",
    "TelephoneCode='+91 6979787890'\n",
    "if re.match(TelephoneCodepattern,TelephoneCode):\n",
    "    print('Match')\n",
    "else:\n",
    "    print('Does not Match')"
   ]
  },
  {
   "cell_type": "code",
   "execution_count": 63,
   "metadata": {},
   "outputs": [
    {
     "name": "stdout",
     "output_type": "stream",
     "text": [
      "Valid\n"
     ]
    }
   ],
   "source": [
    "import re\n",
    "Emailpattern='^[A-za-z][a-z0-9_.-]{5,13}[a-z0-9][@][0-9a-z]{3,9}[.][a-z]{2,3}'\n",
    "Emailcode='gitam.cse@gitam.in'\n",
    "if re.match(Emailpattern,Emailcode):\n",
    "    print('Valid')\n",
    "else:\n",
    "    print('Invalid')   "
   ]
  },
  {
   "cell_type": "code",
   "execution_count": 89,
   "metadata": {},
   "outputs": [
    {
     "name": "stdout",
     "output_type": "stream",
     "text": [
      "Invalid\n"
     ]
    }
   ],
   "source": [
    "import re\n",
    "Passwordpattern='^[A-za-z][!@#$%^&*()]* [+]{5,20}'\n",
    "Passcode='Ajfnknn@!'\n",
    "if re.match(Passwordpattern,Passcode):\n",
    "    print('Valid')\n",
    "else:\n",
    "    print('Invalid') "
   ]
  },
  {
   "cell_type": "markdown",
   "metadata": {},
   "source": [
    "### Define a function to validate email addresses based on the following rules.\n",
    "\n",
    "* Email should be in the format username@domain.extension\n",
    "* username must start with an alphabet and can contain lowercase alphabet, digits, hyphen(-) and underscores( _ ).\n",
    "* username must not contain special characters, uppercase letters, whitespaces.\n",
    "* Length of username must be in the range (6, 16)\n",
    "* Domain can only contain lowercase alphabet and digits with length in range (3, 10) . No special characters are allowed\n",
    "* Extension can only contain lower case alphabet and its length must be in the range (2, 4)\n",
    "* First line of input contains total number of email addresses n. Next n lines contain n email addresses.\n",
    "* Output must contain contain n lines with either 'Valid' or 'Invalid'\n",
    " \n",
    " Password Validation\n",
    "* Should contain atleast one uppercase letter\n",
    "* length in the range (6,21)\n",
    "* should contain atleast contain one special character\n",
    "* should start with upper case or lowercase\n",
    "* should contain atleast one digit"
   ]
  },
  {
   "cell_type": "markdown",
   "metadata": {},
   "source": [
    "### Iterators and Generators in python\n",
    "Lists,Tuples,Strings"
   ]
  },
  {
   "cell_type": "code",
   "execution_count": 76,
   "metadata": {},
   "outputs": [
    {
     "name": "stdout",
     "output_type": "stream",
     "text": [
      "1 2 3 5 1 2 3 5 1 2 3 5 "
     ]
    }
   ],
   "source": [
    "li =[1,2,3,5]\n",
    "\n",
    "for i in li:\n",
    "    print (i,end=\" \")\n",
    "    type(li)\n",
    "    it=iter(li)\n",
    "    type(it)\n",
    "for i in it:\n",
    "    print (i,end=\" \")\n",
    "    it=iter(li)\n",
    "    type(it)\n",
    "for i in it:\n",
    "    print (i,end=\" \")\n",
    "    "
   ]
  },
  {
   "cell_type": "code",
   "execution_count": 78,
   "metadata": {},
   "outputs": [
    {
     "data": {
      "text/plain": [
       "[1, 4, 9, 16, 25, 36, 49, 64, 81, 100]"
      ]
     },
     "execution_count": 78,
     "metadata": {},
     "output_type": "execute_result"
    }
   ],
   "source": [
    "### Generators in python\n",
    "li=[i**2 for i in range(1,11)]\n",
    "li"
   ]
  },
  {
   "cell_type": "code",
   "execution_count": 79,
   "metadata": {},
   "outputs": [
    {
     "data": {
      "text/plain": [
       "385"
      ]
     },
     "execution_count": 79,
     "metadata": {},
     "output_type": "execute_result"
    }
   ],
   "source": [
    "li=[i**2 for i in range(1,11)]\n",
    "sum(li)"
   ]
  },
  {
   "cell_type": "code",
   "execution_count": 83,
   "metadata": {},
   "outputs": [
    {
     "name": "stdout",
     "output_type": "stream",
     "text": [
      "1 4 9 16 25 36 49 64 81 100 "
     ]
    }
   ],
   "source": [
    "gn=(i**2 for i in range(1,11))\n",
    "gn\n",
    "for i in gn:\n",
    "    print(i,end=\" \")"
   ]
  },
  {
   "cell_type": "code",
   "execution_count": null,
   "metadata": {},
   "outputs": [],
   "source": [
    "def helo_world(h);\n",
    "    def world(h,w):\n",
    "        print(h,w)\n",
    "        return world \n",
    "    h=helo_world\n",
    "    x=print(\"Hello World\")\n",
    "    \n",
    "    \n",
    "    "
   ]
  }
 ],
 "metadata": {
  "kernelspec": {
   "display_name": "Python 3",
   "language": "python",
   "name": "python3"
  },
  "language_info": {
   "codemirror_mode": {
    "name": "ipython",
    "version": 3
   },
   "file_extension": ".py",
   "mimetype": "text/x-python",
   "name": "python",
   "nbconvert_exporter": "python",
   "pygments_lexer": "ipython3",
   "version": "3.7.3"
  }
 },
 "nbformat": 4,
 "nbformat_minor": 2
}
