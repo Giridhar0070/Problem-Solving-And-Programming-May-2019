{
 "cells": [
  {
   "cell_type": "markdown",
   "metadata": {},
   "source": [
    "# Greet"
   ]
  },
  {
   "cell_type": "code",
   "execution_count": 9,
   "metadata": {},
   "outputs": [
    {
     "name": "stdout",
     "output_type": "stream",
     "text": [
      "hello\n"
     ]
    }
   ],
   "source": [
    "print(\"hello\")"
   ]
  },
  {
   "cell_type": "code",
   "execution_count": 1,
   "metadata": {},
   "outputs": [
    {
     "name": "stdout",
     "output_type": "stream",
     "text": [
      "12\n"
     ]
    }
   ],
   "source": [
    "a=10 \n",
    "b=2\n",
    "c=a+b\n",
    "print(c)"
   ]
  },
  {
   "cell_type": "markdown",
   "metadata": {},
   "source": [
    "# SUM Program"
   ]
  },
  {
   "cell_type": "code",
   "execution_count": 5,
   "metadata": {},
   "outputs": [
    {
     "name": "stdout",
     "output_type": "stream",
     "text": [
      "ENTER A VALUE111\n",
      "ENTER B VALUE432\n",
      "543\n"
     ]
    }
   ],
   "source": [
    "a=input(\"ENTER A VALUE\")\n",
    "b=input(\"ENTER B VALUE\")\n",
    "c=int(a)+int(b)\n",
    "print(c)\n"
   ]
  },
  {
   "cell_type": "markdown",
   "metadata": {},
   "source": [
    "# Even Values"
   ]
  },
  {
   "cell_type": "code",
   "execution_count": 6,
   "metadata": {},
   "outputs": [
    {
     "name": "stdout",
     "output_type": "stream",
     "text": [
      "ENTER N VALUE45678\n",
      "45678 is even\n"
     ]
    }
   ],
   "source": [
    "n=input(\"ENTER N VALUE\")\n",
    "n=int(n)\n",
    "if(n%2==0):\n",
    "    print(n ,\"is even\")\n",
    "else:\n",
    "    print(n , \"is odd\")"
   ]
  },
  {
   "cell_type": "markdown",
   "metadata": {},
   "source": [
    "\n"
   ]
  },
  {
   "cell_type": "markdown",
   "metadata": {},
   "source": [
    "# Power Mod Concept in Python \n"
   ]
  },
  {
   "cell_type": "code",
   "execution_count": 18,
   "metadata": {},
   "outputs": [
    {
     "name": "stdout",
     "output_type": "stream",
     "text": [
      "114374367934617190099880295228066276746218078451850229775887975052369504785666896446606568365201542169649974727730628842345343196581134895919942820874449837212099476648958359023796078549041949007807220625356526926729664064846685758382803707100766740220839267\n"
     ]
    }
   ],
   "source": [
    "var=123\n",
    "var2=var**var\n",
    "print(var2)"
   ]
  },
  {
   "cell_type": "markdown",
   "metadata": {},
   "source": [
    "# To find type of data"
   ]
  },
  {
   "cell_type": "code",
   "execution_count": 20,
   "metadata": {},
   "outputs": [
    {
     "data": {
      "text/plain": [
       "int"
      ]
     },
     "execution_count": 20,
     "metadata": {},
     "output_type": "execute_result"
    }
   ],
   "source": [
    "type(var2)\n"
   ]
  },
  {
   "cell_type": "code",
   "execution_count": 21,
   "metadata": {},
   "outputs": [
    {
     "data": {
      "text/plain": [
       "str"
      ]
     },
     "execution_count": 21,
     "metadata": {},
     "output_type": "execute_result"
    }
   ],
   "source": [
    "type(\"Python\")"
   ]
  },
  {
   "cell_type": "markdown",
   "metadata": {},
   "source": [
    "# Slicing of Strings"
   ]
  },
  {
   "cell_type": "code",
   "execution_count": 67,
   "metadata": {},
   "outputs": [
    {
     "name": "stdout",
     "output_type": "stream",
     "text": [
      "P\n",
      "g\n",
      "Python\n",
      "gnimmargorP nohtyP\n",
      "Pto rgamn\n",
      "Programming\n",
      "Programming\n",
      "Programming\n",
      "Programming\n",
      "Programming\n",
      "Programming\n",
      "Programming\n",
      "Programming\n",
      "Programming\n",
      "Programming\n",
      "\n"
     ]
    }
   ],
   "source": [
    "str1=\"Python Programming\"\n",
    "print(str1[0]) #Accessing first Character\n",
    "print(str1[len(str1)-1])#Printing last character\n",
    "print(str1[0:6])# Printing First 6 characters\n",
    "print(str1[len(str1)-1::-1])#Reverse of a string\n",
    "print(str1[0:len(str1):2])#Alternate Characters\n",
    "print((str1[7:] + '\\n')*10)#Printing in new line"
   ]
  },
  {
   "cell_type": "code",
   "execution_count": 8,
   "metadata": {},
   "outputs": [
    {
     "ename": "NameError",
     "evalue": "name 'str1' is not defined",
     "output_type": "error",
     "traceback": [
      "\u001b[1;31m---------------------------------------------------------------------------\u001b[0m",
      "\u001b[1;31mNameError\u001b[0m                                 Traceback (most recent call last)",
      "\u001b[1;32m<ipython-input-8-2b24ea7c2c9a>\u001b[0m in \u001b[0;36m<module>\u001b[1;34m\u001b[0m\n\u001b[1;32m----> 1\u001b[1;33m \u001b[0mstr1\u001b[0m\u001b[1;33m[\u001b[0m\u001b[1;36m5\u001b[0m\u001b[1;33m:\u001b[0m\u001b[1;33m:\u001b[0m\u001b[1;33m-\u001b[0m\u001b[1;36m2\u001b[0m\u001b[1;33m]\u001b[0m\u001b[1;31m#Reverse alternate Characters  of the word Python\u001b[0m\u001b[1;33m\u001b[0m\u001b[1;33m\u001b[0m\u001b[0m\n\u001b[0m",
      "\u001b[1;31mNameError\u001b[0m: name 'str1' is not defined"
     ]
    }
   ],
   "source": [
    "str1[6::-2]#Reverse alternate Characters  of the word Python"
   ]
  },
  {
   "cell_type": "code",
   "execution_count": 38,
   "metadata": {},
   "outputs": [
    {
     "data": {
      "text/plain": [
       "'ProgrammingProgrammingProgrammingProgrammingProgrammingProgrammingProgrammingProgrammingProgrammingProgramming'"
      ]
     },
     "execution_count": 38,
     "metadata": {},
     "output_type": "execute_result"
    }
   ],
   "source": [
    "str1[7:]*10"
   ]
  },
  {
   "cell_type": "markdown",
   "metadata": {},
   "source": [
    "# Lists"
   ]
  },
  {
   "cell_type": "code",
   "execution_count": 175,
   "metadata": {},
   "outputs": [
    {
     "name": "stdout",
     "output_type": "stream",
     "text": [
      "[123, 345, 'Programming', 'Python']\n"
     ]
    },
    {
     "data": {
      "text/plain": [
       "<function list.sort(*, key=None, reverse=False)>"
      ]
     },
     "execution_count": 175,
     "metadata": {},
     "output_type": "execute_result"
    }
   ],
   "source": [
    "li=[123, 345, 'Python']\n",
    "len(li)\n",
    "li[2]\n",
    "li[len(li)-1]='Programming'#replacing an element in list\n",
    "li.append('Python')#Adding a new element\n",
    "print(li)\n",
    "li[2:]\n",
    "li.extend(653)\n",
    "li.extend(799)\n",
    "li.sort\n",
    "#li.pop()#Removes element by index\n",
    "#li.remove(123)#Removes element by value\n",
    "#li.insert(2,343)#When Elemnts get inserted they shift to one place towards left\n",
    "#li2=[[1,2,3],[4,5,6],[7,8,9]]\n",
    "#li2[2][0]\n",
    "li2.insert(3,[10,11,12])\n",
    "li2.pop(3)\n",
    "li2=[[1,2,3],[4,5,6,10],[7,8,9]]\n",
    "#for i in range(0,len(li2)):\n",
    " #   for j in range(0,len(li2[i])):\n",
    "  #      print(li2[i][j],end=' ')\n",
    "#for i in range(len(li2)-1,-1,-1) :\n",
    "    #for j in range(len(li2[i]),-1,-1,-1):\n",
    "     #   print(li2[i][j],end=' ')\n"
   ]
  },
  {
   "cell_type": "code",
   "execution_count": 127,
   "metadata": {},
   "outputs": [
    {
     "name": "stdout",
     "output_type": "stream",
     "text": [
      "[[1, 2, 3], [4, 5, 6, 10], [7, 8, 9]]\n"
     ]
    }
   ],
   "source": [
    "print(li2)"
   ]
  },
  {
   "cell_type": "markdown",
   "metadata": {},
   "source": [
    "# Tuples"
   ]
  },
  {
   "cell_type": "code",
   "execution_count": 148,
   "metadata": {},
   "outputs": [
    {
     "name": "stdout",
     "output_type": "stream",
     "text": [
      "1134\n",
      "789\n"
     ]
    },
    {
     "data": {
      "text/plain": [
       "'321 543 987'"
      ]
     },
     "execution_count": 148,
     "metadata": {},
     "output_type": "execute_result"
    }
   ],
   "source": [
    "t1=(123,345,789)\n",
    "print(t1[2]+t1[1])\n",
    "print(t1[len(t1)-1])\n",
    "t1[1:3]\n",
    "str(t1[0])[1]+\" \"+str(t1[1])[1]+\" \"+str(t1[2])[1]\n",
    "str(t1[0])[2::-1]+\" \"+str(t1[1])[2::-1]+\" \"+str(t1[2])[2::-1]#Reverse of the tuples"
   ]
  },
  {
   "cell_type": "markdown",
   "metadata": {},
   "source": [
    "# Input from the user\n",
    "str1 = input(\"Enter a String\") #Input func is used"
   ]
  },
  {
   "cell_type": "markdown",
   "metadata": {},
   "source": [
    "# Dictionaries"
   ]
  },
  {
   "cell_type": "code",
   "execution_count": 157,
   "metadata": {},
   "outputs": [
    {
     "data": {
      "text/plain": [
       "dict_keys(['procedural', 'Scripting', 'functional'])"
      ]
     },
     "execution_count": 157,
     "metadata": {},
     "output_type": "execute_result"
    }
   ],
   "source": [
    "d1 = {'procedural':'C','Scripting':'Python','functional':''}\n",
    "     \n",
    "d1['Scripting']\n",
    "d1.values()\n",
    "d1.keys()\n"
   ]
  },
  {
   "cell_type": "code",
   "execution_count": 172,
   "metadata": {},
   "outputs": [
    {
     "data": {
      "text/plain": [
       "'Prolog'"
      ]
     },
     "execution_count": 172,
     "metadata": {},
     "output_type": "execute_result"
    }
   ],
   "source": [
    "d2={'Symbolic':'Mathematica','Logic':'Prolog'}\n",
    "d1.update(d2)#Merging the Dictionaries\n",
    "d1['ObjectOriented'] = 'Java' #Adding a new elements\n",
    "d1['Logic']"
   ]
  }
 ],
 "metadata": {
  "kernelspec": {
   "display_name": "Python 3",
   "language": "python",
   "name": "python3"
  },
  "language_info": {
   "codemirror_mode": {
    "name": "ipython",
    "version": 3
   },
   "file_extension": ".py",
   "mimetype": "text/x-python",
   "name": "python",
   "nbconvert_exporter": "python",
   "pygments_lexer": "ipython3",
   "version": "3.7.3"
  }
 },
 "nbformat": 4,
 "nbformat_minor": 2
}
