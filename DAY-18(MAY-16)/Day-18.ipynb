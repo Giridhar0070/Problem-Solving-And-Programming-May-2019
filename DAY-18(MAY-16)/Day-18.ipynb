{
 "cells": [
  {
   "cell_type": "markdown",
   "metadata": {},
   "source": [
    "# Problem Solving and Programming\n",
    "### DAY 18\n",
    "### DATE:16-MAY-2019\n",
    "## Today's Outcomes: \n",
    "* Basic File Handling\n",
    "* Generating marks randoming  for 1300 students and making modifications as per the requirement  \n",
    "* External Libraries and tools like map,sum ..,etc\n",
    "* Expolring Num py Concepts and Tools "
   ]
  },
  {
   "cell_type": "markdown",
   "metadata": {},
   "source": [
    "### Problem1"
   ]
  },
  {
   "cell_type": "markdown",
   "metadata": {},
   "source": [
    "### Problem Statement:\n",
    "To read a file"
   ]
  },
  {
   "cell_type": "markdown",
   "metadata": {},
   "source": [
    "### Constraints"
   ]
  },
  {
   "cell_type": "markdown",
   "metadata": {},
   "source": [
    "### TestCases:\n",
    "    TestCase1\n",
    "    TestCase2\n",
    "    TestCase3"
   ]
  },
  {
   "cell_type": "code",
   "execution_count": 31,
   "metadata": {},
   "outputs": [
    {
     "name": "stdout",
     "output_type": "stream",
     "text": [
      "ndncn,\n",
      "md.m\n",
      "dsfs"
     ]
    }
   ],
   "source": [
    "def ReadFile(filename):\n",
    "    with open(filename,'r') as f:\n",
    "        print(f.read)\n",
    "    \n",
    "    \n",
    "readFileData('DataFiles/data.txt')"
   ]
  },
  {
   "cell_type": "markdown",
   "metadata": {},
   "source": [
    "# Problem 2\n",
    "### Problem Statement:\n",
    " Define a function to write to a File\n",
    "\n",
    "\n",
    "### Constraints\n",
    "\n",
    "### TestCases"
   ]
  },
  {
   "cell_type": "code",
   "execution_count": 72,
   "metadata": {},
   "outputs": [],
   "source": [
    "import random\n",
    "def writeIntoFile(filename):\n",
    "    with open(filename,'w') as f:\n",
    "        for i in range(1,1301):  \n",
    "            f.write(str(random.randint(0,101) ))\n",
    "            f.write('\\n')\n",
    "        return\n",
    "writeIntoFile('DataFiles/Marksfile.txt')"
   ]
  },
  {
   "cell_type": "markdown",
   "metadata": {},
   "source": [
    "## Problem 3\n",
    "### Problem Statement:\n",
    " ### Generate a report on the marks data with the following indicators\n",
    "* Highest mark:\n",
    "* Lowest mark:\n",
    "* Average mark:\n",
    "* No of students with distinction(<80):\n",
    "* No of students with firstclass(<60):\n",
    "* No of students with secondclass(<50):\n",
    "* No of students with third class(<40):\n",
    "* No of students who failed(>40):\n",
    "\n",
    "\n",
    "### Constraints\n",
    "\n",
    "### TestCases"
   ]
  },
  {
   "cell_type": "code",
   "execution_count": 143,
   "metadata": {},
   "outputs": [
    {
     "name": "stdout",
     "output_type": "stream",
     "text": [
      "Highest Mark 101\n",
      "Lowest Mark 0\n",
      "Average Mark 51\n",
      "No of students with Distinction 1219\n",
      "No of students with firstclass 20\n",
      "No of students with second class 10\n",
      "No of students with Third class 10\n",
      "No of students who have failed 41\n"
     ]
    },
    {
     "data": {
      "text/plain": [
       "0.01083115600158635"
      ]
     },
     "execution_count": 143,
     "metadata": {},
     "output_type": "execute_result"
    }
   ],
   "source": [
    "import timeit\n",
    "def ReadFile(filename):\n",
    "    c=0\n",
    "    a=0\n",
    "    b=0\n",
    "    g=0\n",
    "    d=0\n",
    "    start=timeit.default_timer()\n",
    "    ml=[]\n",
    "    with open(filename,'r') as f:\n",
    "        for line in f:\n",
    "            ml.append(int(line))\n",
    "    n=len(ml)\n",
    "    avg=sum(ml)//n\n",
    "    AverageMark=avg\n",
    "    LowestMark=min(ml)\n",
    "    HighestMark=max(ml)\n",
    "    for i in range(0,n):\n",
    "        if(i>80):\n",
    "            c=c+1\n",
    "             \n",
    "        elif(i>60):\n",
    "            a=a+1\n",
    "            \n",
    "        elif(i>50):\n",
    "            b=b+1\n",
    "            \n",
    "        elif(i>40):\n",
    "            g=g+1\n",
    "             \n",
    "        else:\n",
    "            d=d+1\n",
    "    print(\"Highest Mark\",HighestMark)\n",
    "    print(\"Lowest Mark\",LowestMark)\n",
    "    print(\"Average Mark\",AverageMark)\n",
    "    print(\"No of students with Distinction\",c)\n",
    "    print(\"No of students with firstclass\",a)\n",
    "    print(\"No of students with second class\",b)\n",
    "    print(\"No of students with Third class\",g)\n",
    "    print(\"No of students who have failed\",d)    \n",
    "    return timeit.default_timer()-start       \n",
    "ReadFile('DataFiles/Marksfile.txt')"
   ]
  },
  {
   "cell_type": "markdown",
   "metadata": {},
   "source": [
    "# Problem 4\n",
    "### Problem Statement:\n",
    " To solve above problem using regular expressions and check for execution time fastness using timeit package\n",
    "\n",
    "\n",
    "### Constraints\n",
    "\n",
    "### TestCases"
   ]
  },
  {
   "cell_type": "code",
   "execution_count": 6,
   "metadata": {},
   "outputs": [],
   "source": [
    "import re,timeit\n",
    "def generateReport(Marksfile):\n",
    "    \n",
    "    Marksfile=readFileData()\n",
    "    Marksfile=re.split(r'\\n',Marksfile)\n",
    "    Marksfile=list(map(int,Marksfile[:len(Marksfile)-1]))\n",
    "    print(Marksfile[len(Marksfile)-2])\n",
    "    print(type(Marksfile[0]))\n",
    "    return timeit.default_timer()-start  \n",
    "#generateReport('Marksfile.txt')"
   ]
  },
  {
   "cell_type": "code",
   "execution_count": 187,
   "metadata": {},
   "outputs": [
    {
     "name": "stdout",
     "output_type": "stream",
     "text": [
      "0.00018917199849965982\n"
     ]
    },
    {
     "data": {
      "text/plain": [
       "[1, 64, 64, 7744]"
      ]
     },
     "execution_count": 187,
     "metadata": {},
     "output_type": "execute_result"
    }
   ],
   "source": [
    "import timeit\n",
    "def square(n):\n",
    "    return n*n\n",
    "st=timeit.default_timer()\n",
    "li=[1,8,8,88]\n",
    "s=list(map(square,li))\n",
    "print(timeit.default_timer()-st)\n",
    "s"
   ]
  },
  {
   "cell_type": "code",
   "execution_count": 7,
   "metadata": {},
   "outputs": [],
   "source": [
    "def distinct(ml):\n",
    "    return ml>=80\n",
    "#dis=sum(map(distinction,Marksfile))\n",
    "#failed=sum([1 for i in Marksfile if i<40])\n",
    "#failed"
   ]
  },
  {
   "cell_type": "code",
   "execution_count": 2,
   "metadata": {},
   "outputs": [
    {
     "name": "stdout",
     "output_type": "stream",
     "text": [
      "[[[0 1 2]\n",
      "  [3 4 5]]]\n"
     ]
    },
    {
     "data": {
      "text/plain": [
       "numpy.ndarray"
      ]
     },
     "execution_count": 2,
     "metadata": {},
     "output_type": "execute_result"
    }
   ],
   "source": [
    "import numpy as np\n",
    "a=np.array([[[0,1,2],[3,4,5]]])\n",
    "print(a)\n",
    "type(a)"
   ]
  }
 ],
 "metadata": {
  "kernelspec": {
   "display_name": "Python 3",
   "language": "python",
   "name": "python3"
  },
  "language_info": {
   "codemirror_mode": {
    "name": "ipython",
    "version": 3
   },
   "file_extension": ".py",
   "mimetype": "text/x-python",
   "name": "python",
   "nbconvert_exporter": "python",
   "pygments_lexer": "ipython3",
   "version": "3.7.3"
  }
 },
 "nbformat": 4,
 "nbformat_minor": 2
}
