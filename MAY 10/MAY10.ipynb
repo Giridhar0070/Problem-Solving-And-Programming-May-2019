{
 "cells": [
  {
   "cell_type": "markdown",
   "metadata": {},
   "source": [
    "# Problem1"
   ]
  },
  {
   "cell_type": "markdown",
   "metadata": {},
   "source": [
    "### ProblemStatement:\n",
    "Solve the following problems using Recursion\n",
    "\n",
    "Power of a number"
   ]
  },
  {
   "cell_type": "markdown",
   "metadata": {},
   "source": [
    "#### Constraints"
   ]
  },
  {
   "cell_type": "code",
   "execution_count": 3,
   "metadata": {},
   "outputs": [
    {
     "data": {
      "text/plain": [
       "1024"
      ]
     },
     "execution_count": 3,
     "metadata": {},
     "output_type": "execute_result"
    }
   ],
   "source": [
    "def RecProd(n,r):\n",
    "    if(r==1):\n",
    "        return n\n",
    "    else:\n",
    "        return  RecProd(n,r-1) * n\n",
    "RecProd(2,10)"
   ]
  },
  {
   "cell_type": "markdown",
   "metadata": {},
   "source": [
    "## Problem2"
   ]
  },
  {
   "cell_type": "markdown",
   "metadata": {},
   "source": [
    "### ProblemStatement:\n",
    "Solve the following problems using Recursion\n",
    "\n",
    "Factorial"
   ]
  },
  {
   "cell_type": "markdown",
   "metadata": {},
   "source": [
    "#### Constraints"
   ]
  },
  {
   "cell_type": "markdown",
   "metadata": {},
   "source": [
    "#### TestCases"
   ]
  },
  {
   "cell_type": "code",
   "execution_count": 4,
   "metadata": {},
   "outputs": [
    {
     "name": "stdout",
     "output_type": "stream",
     "text": [
      "Enter n value 5\n"
     ]
    },
    {
     "data": {
      "text/plain": [
       "120"
      ]
     },
     "execution_count": 4,
     "metadata": {},
     "output_type": "execute_result"
    }
   ],
   "source": [
    "n=input(\"Enter n value \")\n",
    "n=int(n)\n",
    "def Factorial(n):\n",
    "    if(n==1):\n",
    "        return 1\n",
    "    else:\n",
    "        return Factorial(n-1)*n\n",
    "Factorial(n)"
   ]
  },
  {
   "cell_type": "markdown",
   "metadata": {},
   "source": [
    "## Problem3"
   ]
  },
  {
   "cell_type": "markdown",
   "metadata": {},
   "source": [
    "#### ProblemStatement:\n",
    "Solve the following problems using Recursion\n",
    "* Towers of Hanoi"
   ]
  },
  {
   "cell_type": "markdown",
   "metadata": {},
   "source": [
    "### Explanation\n",
    "* n disks -> move n-1 disks from source to temp move nth disk from source to dest.\n",
    "* move n-1 disks from temp to dest. 3 disks-> move 2 disks from source to temp move 3 disk from source to dest.\n",
    "* move 2 disks from temp to dest"
   ]
  },
  {
   "cell_type": "code",
   "execution_count": 5,
   "metadata": {},
   "outputs": [
    {
     "name": "stdout",
     "output_type": "stream",
     "text": [
      "Move 1 disk from A to C\n",
      "Move 2 disk from A to B\n",
      "Move 1 disk from C to B\n",
      "Move 3 disk from A to C\n",
      "Move 1 disk from B to A\n",
      "Move 2 disk from B to C\n",
      "Move 1 disk from A to C\n"
     ]
    }
   ],
   "source": [
    "def TowerOfHanoi(n,source,temp,dest):\n",
    "    if n==1:\n",
    "        print('Move',n,'disk from',source ,'to',dest)\n",
    "        return\n",
    "    else:\n",
    "        TowerOfHanoi(n-1,source,dest,temp)\n",
    "        print('Move',n,'disk from',source ,'to',dest)\n",
    "        TowerOfHanoi(n-1,temp,source,dest)\n",
    "        return\n",
    "TowerOfHanoi(3,'A','B','C')"
   ]
  },
  {
   "cell_type": "markdown",
   "metadata": {},
   "source": [
    "## Problem4"
   ]
  },
  {
   "cell_type": "markdown",
   "metadata": {},
   "source": [
    "### Problem Statement\n",
    "Solve the following problems using Recursion\n",
    "\n",
    "Generating the nth Fibonacci number"
   ]
  },
  {
   "cell_type": "markdown",
   "metadata": {},
   "source": [
    "#### Constraints"
   ]
  },
  {
   "cell_type": "code",
   "execution_count": 6,
   "metadata": {},
   "outputs": [
    {
     "data": {
      "text/plain": [
       "34"
      ]
     },
     "execution_count": 6,
     "metadata": {},
     "output_type": "execute_result"
    }
   ],
   "source": [
    "def Fibonacci(n):\n",
    "        if(n<0):\n",
    "            return -1\n",
    "        elif(n==1):\n",
    "            return 0\n",
    "        elif(n==2):\n",
    "            return 1\n",
    "        else:\n",
    "            return Fibonacci(n-1)+ Fibonacci(n-2)\n",
    "Fibonacci(10)\n",
    "    "
   ]
  },
  {
   "cell_type": "markdown",
   "metadata": {},
   "source": [
    "## Problem5"
   ]
  },
  {
   "cell_type": "markdown",
   "metadata": {},
   "source": [
    "### ProblemStatement\n",
    "Solve the following problems using Recursion and Iteration\n",
    "\n",
    "* GCD"
   ]
  },
  {
   "cell_type": "markdown",
   "metadata": {},
   "source": [
    "#### Constraints"
   ]
  },
  {
   "cell_type": "markdown",
   "metadata": {},
   "source": [
    "#### TestCases"
   ]
  },
  {
   "cell_type": "code",
   "execution_count": 8,
   "metadata": {},
   "outputs": [
    {
     "name": "stdout",
     "output_type": "stream",
     "text": [
      "Enter a value 12\n",
      "Enter b value  42\n"
     ]
    },
    {
     "data": {
      "text/plain": [
       "6"
      ]
     },
     "execution_count": 8,
     "metadata": {},
     "output_type": "execute_result"
    }
   ],
   "source": [
    "a=input(\"Enter a value \")\n",
    "a=int(a)\n",
    "b=input(\"Enter b value  \")\n",
    "b=int(b)\n",
    "def gcdIterative(a,b):\n",
    "    r=b%a\n",
    "    if(r==0):\n",
    "        return a\n",
    "    while r!=0:\n",
    "        r=b%a\n",
    "        b=a\n",
    "        a=r\n",
    "    return b\n",
    "gcdIterative(a,b)"
   ]
  },
  {
   "cell_type": "code",
   "execution_count": 9,
   "metadata": {},
   "outputs": [
    {
     "name": "stdout",
     "output_type": "stream",
     "text": [
      "Enter a value12\n",
      "Enter b value39\n"
     ]
    },
    {
     "data": {
      "text/plain": [
       "3"
      ]
     },
     "execution_count": 9,
     "metadata": {},
     "output_type": "execute_result"
    }
   ],
   "source": [
    "a=input(\"Enter a value\")\n",
    "a=int(a)\n",
    "b=input(\"Enter b value\")\n",
    "b=int(b)\n",
    "def gcdRecursive(a,b):\n",
    "    if(b%a==0):\n",
    "            return a\n",
    "    else:\n",
    "         r=b%a\n",
    "    return gcdRecursive(r,a)\n",
    "gcdRecursive(a,b)"
   ]
  },
  {
   "cell_type": "code",
   "execution_count": null,
   "metadata": {},
   "outputs": [],
   "source": []
  }
 ],
 "metadata": {
  "kernelspec": {
   "display_name": "Python 3",
   "language": "python",
   "name": "python3"
  },
  "language_info": {
   "codemirror_mode": {
    "name": "ipython",
    "version": 3
   },
   "file_extension": ".py",
   "mimetype": "text/x-python",
   "name": "python",
   "nbconvert_exporter": "python",
   "pygments_lexer": "ipython3",
   "version": "3.7.3"
  }
 },
 "nbformat": 4,
 "nbformat_minor": 2
}
