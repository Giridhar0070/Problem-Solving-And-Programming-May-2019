{
 "cells": [
  {
   "cell_type": "code",
   "execution_count": 14,
   "metadata": {},
   "outputs": [
    {
     "data": {
      "text/plain": [
       "\"li=[123, 345, 'Python']\\nlen(li)\\nli[2]\\nli[len(li)-1]='Programming'#replacing an element in list\\nli.append('Python')#Adding a new element\\nprint(li)\\nli[2:]\\nli.extend(653)\\nli.extend(799)\\nli.sort\\n#li.pop()#Removes element by index\\n#li.remove(123)#Removes element by value\\n#li.insert(2,343)#When Elemnts get inserted they shift to one place towards left\\n#li2=[[1,2,3],[4,5,6],[7,8,9]]\\n#li2[2][0]\\nli2.insert(3,[10,11,12])\\nli2.pop(3)\\nli2=[[1,2,3],[4,5,6,10],[7,8,9]]\\n#for i in range(0,len(li2)):\\n #   for j in range(0,len(li2[i])):\\n  #      print(li2[i][j],end=' ')\\n#for i in range(len(li2)-1,-1,-1) :\\n    #for j in range(len(li2[i]),-1,-1,-1):\\n     #   print(li2[i][j],end=' ')\""
      ]
     },
     "execution_count": 14,
     "metadata": {},
     "output_type": "execute_result"
    }
   ],
   "source": [
    "li=[123, 345, 'Python']\n",
    "len(li)\n",
    "li[2]\n",
    "li[len(li)-1]='Programming'#replacing an element in list\n",
    "li.append('Python')#Adding a new element\n",
    "print(li)\n",
    "li[2:]\n",
    "li.extend(653)\n",
    "li.extend(799)\n",
    "li.sort\n",
    "#li.pop()#Removes element by index\n",
    "#li.remove(123)#Removes element by value\n",
    "#li.insert(2,343)#When Elemnts get inserted they shift to one place towards left\n",
    "#li2=[[1,2,3],[4,5,6],[7,8,9]]\n",
    "#li2[2][0]\n",
    "li2.insert(3,[10,11,12])\n",
    "li2.pop(3)\n",
    "li2=[[1,2,3],[4,5,6,10],[7,8,9]]\n",
    "#for i in range(0,len(li2)):\n",
    " #   for j in range(0,len(li2[i])):\n",
    "  #      print(li2[i][j],end=' ')\n",
    "#for i in range(len(li2)-1,-1,-1) :\n",
    "    #for j in range(len(li2[i]),-1,-1,-1):\n",
    "     #   print(li2[i][j],end=' ')\n"
   ]
  },
  {
   "cell_type": "code",
   "execution_count": 12,
   "metadata": {},
   "outputs": [
    {
     "name": "stdout",
     "output_type": "stream",
     "text": [
      "1134\n",
      "789\n"
     ]
    },
    {
     "data": {
      "text/plain": [
       "'321 543 987'"
      ]
     },
     "execution_count": 12,
     "metadata": {},
     "output_type": "execute_result"
    }
   ],
   "source": [
    "t1=(123,345,789)\n",
    "print(t1[2]+t1[1])\n",
    "print(t1[len(t1)-1])\n",
    "t1[1:3]\n",
    "str(t1[0])[1]+\" \"+str(t1[1])[1]+\" \"+str(t1[2])[1]\n",
    "str(t1[0])[2::-1]+\" \"+str(t1[1])[2::-1]+\" \"+str(t1[2])[2::-1]#Reverse of the tuples"
   ]
  },
  {
   "cell_type": "code",
   "execution_count": 10,
   "metadata": {},
   "outputs": [
    {
     "data": {
      "text/plain": [
       "dict_keys(['procedural', 'Scripting', 'functional'])"
      ]
     },
     "execution_count": 10,
     "metadata": {},
     "output_type": "execute_result"
    }
   ],
   "source": [
    "d1 = {'procedural':'C','Scripting':'Python','functional':''}\n",
    "     \n",
    "d1['Scripting']\n",
    "d1.values()\n",
    "d1.keys()\n"
   ]
  },
  {
   "cell_type": "code",
   "execution_count": 11,
   "metadata": {},
   "outputs": [
    {
     "data": {
      "text/plain": [
       "'Prolog'"
      ]
     },
     "execution_count": 11,
     "metadata": {},
     "output_type": "execute_result"
    }
   ],
   "source": [
    "d2={'Symbolic':'Mathematica','Logic':'Prolog'}\n",
    "d1.update(d2)#Merging the Dictionaries\n",
    "d1['ObjectOriented'] = 'Java' #Adding a new elements\n",
    "d1['Logic']"
   ]
  },
  {
   "cell_type": "code",
   "execution_count": 9,
   "metadata": {},
   "outputs": [
    {
     "name": "stdout",
     "output_type": "stream",
     "text": [
      "1\n",
      "1\n",
      "3\n",
      "3\n",
      "5\n"
     ]
    }
   ],
   "source": [
    "def substringCount(a,key):\n",
    "    count = 0\n",
    "    l = len(key)\n",
    "    for i in range (0,len(a)-len(key) + 1):\n",
    "        if a[i:l] == key:\n",
    "            count += 1\n",
    "        l += 1\n",
    "    return count\n",
    "print(substringCount('substr', 'str'))\n",
    "print(substringCount(\"abcd\",\"cd\"))\n",
    "print(substringCount('1234567891122334455', '3'))\n",
    "print(substringCount('abccddccc', 'cc') )\n",
    "print(substringCount('aaaaaaa', 'aaa' ))"
   ]
  },
  {
   "cell_type": "code",
   "execution_count": 8,
   "metadata": {},
   "outputs": [
    {
     "name": "stdout",
     "output_type": "stream",
     "text": [
      "aabbccddefg\n",
      "aabbccdd\n",
      "a1b2c3456\n",
      "0123456\n"
     ]
    }
   ],
   "source": [
    "def mergeString(a,b):\n",
    "    i = len(a)\n",
    "    j = len(b)\n",
    "    s = ''\n",
    "    #take space for assigning s as string\n",
    "    if i>j:\n",
    "        k = len(b)\n",
    "    elif(i == j):\n",
    "        k = len(a)\n",
    "    else:\n",
    "        k = len(a)\n",
    "        \n",
    "    for l in range(len(a)):\n",
    "        s += a[l] + b[l]\n",
    "    if i>j:\n",
    "        for l in range(j,i):\n",
    "            s += a[l]\n",
    "    elif i<j:\n",
    "        for l in range(i,j):\n",
    "            s += b[l]\n",
    "    return s\n",
    "print(mergeString('abcd', 'abcdefg'))\n",
    "print(mergeString('abcd', 'abcd'))\n",
    "print(mergeString('abc', '123456'))\n",
    "print(mergeString('0', '123456'))"
   ]
  },
  {
   "cell_type": "code",
   "execution_count": 7,
   "metadata": {},
   "outputs": [
    {
     "name": "stdout",
     "output_type": "stream",
     "text": [
      "4\n",
      "12\n",
      "10\n",
      "56\n"
     ]
    }
   ],
   "source": [
    "def binaryToDecimal(n):\n",
    "    l = len(str(n))\n",
    "    sum = 0\n",
    "    for i in range (0,l):\n",
    "        rem = n%2\n",
    "        n = int(n/10)\n",
    "        sum += (rem*2**i)\n",
    "    return sum  \n",
    "\n",
    "print(binaryToDecimal(100))\n",
    "print(binaryToDecimal(1100))\n",
    "print(binaryToDecimal(1010))\n",
    "print(binaryToDecimal(111000))"
   ]
  },
  {
   "cell_type": "code",
   "execution_count": 6,
   "metadata": {},
   "outputs": [
    {
     "name": "stdout",
     "output_type": "stream",
     "text": [
      "1111\n",
      "1\n"
     ]
    }
   ],
   "source": [
    "def toBinary(n):\n",
    "    if(n==0):\n",
    "        return 0\n",
    "    else:\n",
    "        return((n%2 + 10 * toBinary(int(n/2))))\n",
    "print(toBinary(15))\n",
    "print(toBinary(1))"
   ]
  },
  {
   "cell_type": "code",
   "execution_count": 5,
   "metadata": {},
   "outputs": [
    {
     "name": "stdout",
     "output_type": "stream",
     "text": [
      "True\n",
      "False\n",
      "True\n",
      "True\n",
      "False\n"
     ]
    }
   ],
   "source": [
    "def leapyr(n):\n",
    "    if(n%4==0 and n%100!=0 ):\n",
    "        return True\n",
    "    elif(n%400==0):\n",
    "        return True\n",
    "    else:\n",
    "        return False\n",
    "print(leapyr(2000))\n",
    "print(leapyr(1900))\n",
    "print(leapyr(2012)) \n",
    "print(leapyr(2020))\n",
    "print(leapyr(200))"
   ]
  },
  {
   "cell_type": "code",
   "execution_count": 4,
   "metadata": {},
   "outputs": [
    {
     "name": "stdout",
     "output_type": "stream",
     "text": [
      "9\n",
      "95\n",
      "92\n"
     ]
    }
   ],
   "source": [
    "def dateDifference(d1,d2):\n",
    "    if d1[0]%4==0 and d1[0]%100!=0 or d2[0]%4==0 and d2[0]%100!=0 :\n",
    "        condition = True\n",
    "    elif d1[0]%400==0 or d2[0]%400==0 :\n",
    "        condition = True\n",
    "    else:\n",
    "        condition = False\n",
    "    sums=0\n",
    "    sumt=0\n",
    "    diff=0\n",
    "    n=0\n",
    "    m=0\n",
    "    if d1[0] != d2[0]:\n",
    "        if d1[0]>d2[0]:\n",
    "            diff = d1[0] - d2[0]\n",
    "        else:\n",
    "            diff = d2[0] - d1[0]\n",
    "    sums += diff*365\n",
    "    if (condition == True):\n",
    "        dic = {'1':31,'2':29,'3':31,'4':30,'5':31,'6':30,'7':31,'8':31,'9':30,'10':31,'11':30,'12':31}\n",
    "    else:\n",
    "        dic = {'1':31,'2':28,'3':31,'4':30,'5':31,'6':30,'7':31,'8':31,'9':30,'10':31,'11':30,'12':31}\n",
    "    if d1[1] != d2[1]:\n",
    "        n=d1[1]\n",
    "        m=d2[1]\n",
    "        for i in range(d1[1],d2[1]):\n",
    "            sums += dic[str(i)]\n",
    "    if d1[2] != d2[2]:\n",
    "        if d1[2] > d2[2]:\n",
    "            diff = d1[2] - d2[2]\n",
    "        else:\n",
    "             diff = d2[2] - d1[2]\n",
    "             sums += diff\n",
    "    \n",
    "   \n",
    "    return sums\n",
    "print(dateDifference((2019,5,1),(2019,5,10)))\n",
    "print(dateDifference((3,3,3),(3,6,6)))\n",
    "print(dateDifference((1,3,27),(1,6,3)))\n"
   ]
  },
  {
   "cell_type": "code",
   "execution_count": 3,
   "metadata": {},
   "outputs": [
    {
     "name": "stdout",
     "output_type": "stream",
     "text": [
      "[1, 2, 3, 6, 9, 8, 7, 4, 5]\n"
     ]
    }
   ],
   "source": [
    "def layerTopRight(matrix):\n",
    "  \n",
    "  top = matrix.pop(0) \n",
    "  right = []\n",
    "  for i in range(0, len(matrix)):\n",
    "    e = matrix[i].pop()\n",
    "    right.append(e)\n",
    "    \n",
    "  return top + right\n",
    "\n",
    "def layerBottomLeft(matrix):\n",
    "  \n",
    "  bottom = matrix.pop()[::-1]\n",
    "  \n",
    "  left = []\n",
    "  \n",
    "  for i in range(0, len(matrix)):\n",
    "    e = matrix[i].pop(0)\n",
    "    left.append(e)\n",
    "    \n",
    "  return bottom + left[::-1]\n",
    "\n",
    "\n",
    "def spiral(matrix):\n",
    "  \n",
    "  spir = []\n",
    "  \n",
    "  while len(matrix) > 0:\n",
    "    \n",
    "    if len(matrix) == 1:\n",
    "      spir += matrix[0]\n",
    "      break\n",
    "      \n",
    "    tr = layerTopRight(matrix)\n",
    "    spir += tr\n",
    "    \n",
    "    bl = layerBottomLeft(matrix)\n",
    "    spir += bl\n",
    "  return spir\n",
    "  \n",
    "  \n",
    "# setup a matrix  \n",
    "M = [[1, 2, 3 ],[4, 5, 6 ], [7, 8, 9 ]]\n",
    "\n",
    "print(spiral(M))"
   ]
  },
  {
   "cell_type": "code",
   "execution_count": 2,
   "metadata": {},
   "outputs": [
    {
     "data": {
      "text/plain": [
       "6.5"
      ]
     },
     "execution_count": 2,
     "metadata": {},
     "output_type": "execute_result"
    }
   ],
   "source": [
    "def AvgOuterMatrix(a):\n",
    "    c=s=0\n",
    "    for i in range(0,len(a)):\n",
    "        if(i==0 or i==len(a)-1):\n",
    "            s=s+sum(a[i])\n",
    "            c=c+len(a[i])\n",
    "        else:\n",
    "            s=s+a[i][0]+a[i][len(a[i])-1]\n",
    "            c=c+2\n",
    "    return s/c\n",
    "AvgOuterMatrix([[1, 2, 3],[4, 5, 6],[7, 8, 9],[10, 11, 12]])"
   ]
  },
  {
   "cell_type": "code",
   "execution_count": 1,
   "metadata": {},
   "outputs": [
    {
     "name": "stdout",
     "output_type": "stream",
     "text": [
      "3\n",
      "3 2 1 "
     ]
    }
   ],
   "source": [
    "def uniqarray(a):\n",
    "    u=[]\n",
    "    u.append(a[0])\n",
    "    for x in a:\n",
    "        if x not in u:\n",
    "            u.append(x)\n",
    "    return u\n",
    "def frequency(n,a):\n",
    "    u=uniqarray(a)\n",
    "    print(len(u),end=\"\\n\")\n",
    "    j=0\n",
    "    for i in range(0,len(u)):\n",
    "        count=0\n",
    "        for j in range(0,len(a)):\n",
    "            if(a[i]==a[j]):\n",
    "                count=count+1\n",
    "        print(count,end=\" \")\n",
    "frequency(6,['ababa','pqras','gafdsd','ababa','pqras','ababa'])                  "
   ]
  },
  {
   "cell_type": "code",
   "execution_count": null,
   "metadata": {},
   "outputs": [],
   "source": []
  }
 ],
 "metadata": {
  "kernelspec": {
   "display_name": "Python 3",
   "language": "python",
   "name": "python3"
  },
  "language_info": {
   "codemirror_mode": {
    "name": "ipython",
    "version": 3
   },
   "file_extension": ".py",
   "mimetype": "text/x-python",
   "name": "python",
   "nbconvert_exporter": "python",
   "pygments_lexer": "ipython3",
   "version": "3.7.3"
  }
 },
 "nbformat": 4,
 "nbformat_minor": 2
}
